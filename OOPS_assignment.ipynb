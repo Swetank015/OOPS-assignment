{
  "nbformat": 4,
  "nbformat_minor": 0,
  "metadata": {
    "colab": {
      "provenance": []
    },
    "kernelspec": {
      "name": "python3",
      "display_name": "Python 3"
    },
    "language_info": {
      "name": "python"
    }
  },
  "cells": [
    {
      "cell_type": "markdown",
      "source": [
        "**Q1. What are the five key concepts of Object-Oriented Programming (OOP)?**"
      ],
      "metadata": {
        "id": "UE5tn26GwGga"
      }
    },
    {
      "cell_type": "markdown",
      "source": [
        "Ans.**Encapsulation:**: This concept involves bundling data (attributes) and methods (functions) that operate on that data into a single unit called an object. This helps in data hiding and protects the data from unauthorized access.\n",
        "\n",
        "**Inheritance:** This allows you to create new classes (derived classes) based on existing classes (base classes). Derived classes inherit the attributes and methods of the base class, but can also have their own unique attributes and methods. This promotes code reusability and hierarchical relationships between classes.\n",
        "\n",
        "**Polymorphism:** This refers to the ability of objects of different classes to be treated as if they were of the same class. This can be achieved through method overriding (where a derived class provides a different implementation of a method inherited from the base class) or method overloading (where a class has multiple methods with the same name but different parameters).\n",
        "\n",
        "**Abstraction:** This concept involves focusing on the essential features of an object while ignoring the unnecessary details. It helps in simplifying complex systems and making them easier to understand. Abstraction is often achieved through the use of abstract classes and interfaces.\n",
        "\n",
        "**Modularity:** This refers to breaking down a complex system into smaller, more manageable units called modules. Each module has a specific responsibility and can be developed and tested independently. This improves code maintainability and reusabili"
      ],
      "metadata": {
        "id": "qdrdCmkVwbtF"
      }
    },
    {
      "cell_type": "markdown",
      "source": [
        "**Q2. Write a Python class for a `Car` with attributes for `make`, `model`, and `year`. Include a method to display\n",
        "the car's information.**\n",
        "\n",
        "\n"
      ],
      "metadata": {
        "id": "C-XP5qn6xz22"
      }
    },
    {
      "cell_type": "code",
      "source": [
        "class Car:\n",
        "    def __init__(self, make, model, year):\n",
        "        self.make = make\n",
        "        self.model = model\n",
        "        self.year = year\n",
        "\n",
        "    def display_info(self):\n",
        "        print(f\"Make: {self.make}\")\n",
        "        print(f\"Model: {self.model}\")\n",
        "        print(f\"Year: {self.year}\")\n",
        "\n",
        "# Create a car object\n",
        "my_car = Car(\"Toyota\", \"Camry\", 2023)\n",
        "\n",
        "# Display the car's information\n",
        "my_car.display_info()"
      ],
      "metadata": {
        "colab": {
          "base_uri": "https://localhost:8080/"
        },
        "id": "pkrykQCvyL6u",
        "outputId": "bc570fbc-d7cb-4fe3-8d1a-e9374a8f2f1b"
      },
      "execution_count": 1,
      "outputs": [
        {
          "output_type": "stream",
          "name": "stdout",
          "text": [
            "Make: Toyota\n",
            "Model: Camry\n",
            "Year: 2023\n"
          ]
        }
      ]
    },
    {
      "cell_type": "markdown",
      "source": [
        "**Q3.Explain the difference between instance methods and class methods. Provide an example of each.**"
      ],
      "metadata": {
        "id": "N1tT_31wyzEP"
      }
    },
    {
      "cell_type": "markdown",
      "source": [
        "Ans. **Instance Methods**\n",
        "* **Belong to an instance**: These methods operate on an instance of the class and can access and modify instance attributes.\n",
        "* Automatically pass the instance (self) as the first parameter to the method.\n",
        "Called on an object (instance) of the class.\n"
      ],
      "metadata": {
        "id": "i6DUkbWly8ZF"
      }
    },
    {
      "cell_type": "code",
      "source": [
        "class Dog:\n",
        "    def __init__(self, name):\n",
        "        self.name = name\n",
        "\n",
        "    # Instance method\n",
        "    def bark(self):\n",
        "        return f\"{self.name} is barking.\"\n",
        "\n",
        "# Creating an instance of Dog\n",
        "dog1 = Dog(\"Buddy\")\n",
        "print(dog1.bark())\n"
      ],
      "metadata": {
        "colab": {
          "base_uri": "https://localhost:8080/"
        },
        "id": "-a8vLmO60Pm1",
        "outputId": "8f5af280-df03-43ab-82d4-b0cef885550b"
      },
      "execution_count": 2,
      "outputs": [
        {
          "output_type": "stream",
          "name": "stdout",
          "text": [
            "Buddy is barking.\n"
          ]
        }
      ]
    },
    {
      "cell_type": "markdown",
      "source": [
        "Here, bark() is an instance method, and it requires an instance (dog1) to be called."
      ],
      "metadata": {
        "id": "lizTVdGh0Y6Z"
      }
    },
    {
      "cell_type": "markdown",
      "source": [
        "**Class Methods**\n",
        "\n",
        "* **Belong to the class itself**: These methods operate on the class level rather than the instance level.\n",
        "* Automatically pass the class (cls) as the first parameter to the method.\n",
        "Use the @classmethod decorator to define them.\n",
        "* Can be called on the class itself or an instance but typically used for operations related to the class as a whole, not specific instances."
      ],
      "metadata": {
        "id": "gJpQWDVr0hop"
      }
    },
    {
      "cell_type": "code",
      "source": [
        "class Dog:\n",
        "    species = \"Canine\"\n",
        "\n",
        "    def __init__(self, name):\n",
        "        self.name = name\n",
        "\n",
        "    # Class method\n",
        "    @classmethod\n",
        "    def get_species(cls):\n",
        "        return cls.species\n",
        "\n",
        "# Calling the class method\n",
        "print(Dog.get_species())\n",
        "\n",
        "# You can also call a class method using an instance\n",
        "dog2 = Dog(\"Max\")\n",
        "print(dog2.get_species())\n"
      ],
      "metadata": {
        "colab": {
          "base_uri": "https://localhost:8080/"
        },
        "id": "8FG8Plqz0zEs",
        "outputId": "dabb1c77-b9bb-4591-e5c4-cef8ea0a6276"
      },
      "execution_count": 3,
      "outputs": [
        {
          "output_type": "stream",
          "name": "stdout",
          "text": [
            "Canine\n",
            "Canine\n"
          ]
        }
      ]
    },
    {
      "cell_type": "markdown",
      "source": [
        "In this case, get_species() is a class method, and it returns information about the class rather than any individual instance."
      ],
      "metadata": {
        "id": "gciaUjrj1-Rc"
      }
    },
    {
      "cell_type": "markdown",
      "source": [
        "**Q4.How does Python implement method overloading? Give an example**"
      ],
      "metadata": {
        "id": "o3edzsLY1_k2"
      }
    },
    {
      "cell_type": "markdown",
      "source": [
        "Ans. Python does not support traditional method overloading, where multiple methods with the same name but different argument types or counts can coexist in the same class. Instead, Python implements a simpler, dynamic form of method handling where the most recently defined method with a particular name will overwrite any previous methods with the same name.\n",
        "\n",
        "To achieve a behavior similar to method overloading in Python, you can:\n",
        "\n",
        "1. Use default arguments.\n",
        "\n",
        "2. Use *args (variable-length positional arguments) and **kwargs (variable-length keyword arguments).\n",
        "\n",
        "3. Manually check the types or number of arguments inside the method.\n",
        "Example: Using Default Arguments\n",
        "You can define a method with optional parameters by using default values."
      ],
      "metadata": {
        "id": "OTzWl-5__Ax5"
      }
    },
    {
      "cell_type": "code",
      "source": [
        "class Example:\n",
        "    def add(self, x, y=0):\n",
        "        return x + y\n",
        "\n",
        "obj = Example()\n",
        "print(obj.add(5))\n",
        "print(obj.add(5, 10))\n"
      ],
      "metadata": {
        "colab": {
          "base_uri": "https://localhost:8080/"
        },
        "id": "DzO2ULVw9Rel",
        "outputId": "7ba3fa46-3fde-4d5d-e327-02446e3d96d9"
      },
      "execution_count": 4,
      "outputs": [
        {
          "output_type": "stream",
          "name": "stdout",
          "text": [
            "5\n",
            "15\n"
          ]
        }
      ]
    },
    {
      "cell_type": "markdown",
      "source": [
        "In this case, add() can behave like two methods: one that adds one number (x) to zero (using the default y), and another that adds two numbers."
      ],
      "metadata": {
        "id": "aE-HGVsd_e85"
      }
    },
    {
      "cell_type": "markdown",
      "source": [
        "Example: Using *args for Variable Number of Arguments\n",
        "You can also use *args to accept a variable number of arguments and handle overloading-like behavior."
      ],
      "metadata": {
        "id": "fW00kV-b_rGa"
      }
    },
    {
      "cell_type": "code",
      "source": [
        "class Example:\n",
        "    def add(self, *args):\n",
        "        return sum(args)\n",
        "\n",
        "obj = Example()\n",
        "print(obj.add(5))\n",
        "print(obj.add(5, 10))\n",
        "print(obj.add(5, 10, 20))\n"
      ],
      "metadata": {
        "colab": {
          "base_uri": "https://localhost:8080/"
        },
        "id": "lmdcg0_H_wdE",
        "outputId": "89279aaa-a6f2-409e-d08c-4a1739f31e0a"
      },
      "execution_count": 5,
      "outputs": [
        {
          "output_type": "stream",
          "name": "stdout",
          "text": [
            "5\n",
            "15\n",
            "35\n"
          ]
        }
      ]
    },
    {
      "cell_type": "markdown",
      "source": [
        "Example: Using isinstance() for Type Checking\n",
        "You can also manually check the types of the arguments to simulate overloading based on the types."
      ],
      "metadata": {
        "id": "SaMlWn9nAJou"
      }
    },
    {
      "cell_type": "code",
      "source": [
        "class Example:\n",
        "    def display(self, arg):\n",
        "        if isinstance(arg, int):\n",
        "            print(f\"Integer: {arg}\")\n",
        "        elif isinstance(arg, str):\n",
        "            print(f\"String: {arg}\")\n",
        "        else:\n",
        "            print(f\"Unknown type: {arg}\")\n",
        "\n",
        "obj = Example()\n",
        "obj.display(42)\n",
        "obj.display(\"Python\")"
      ],
      "metadata": {
        "colab": {
          "base_uri": "https://localhost:8080/"
        },
        "id": "HNat2zqB_3cN",
        "outputId": "59852ee5-1dd1-4fcd-972b-09ed492a5200"
      },
      "execution_count": 6,
      "outputs": [
        {
          "output_type": "stream",
          "name": "stdout",
          "text": [
            "Integer: 42\n",
            "String: Python\n"
          ]
        }
      ]
    },
    {
      "cell_type": "markdown",
      "source": [
        "Here, display() behaves differently based on whether the argument is an integer or a string."
      ],
      "metadata": {
        "id": "5-xT7EamAg5C"
      }
    },
    {
      "cell_type": "markdown",
      "source": [
        "**Q5.What are the three types of access modifiers in Python? How are they denoted?**"
      ],
      "metadata": {
        "id": "o7cpB3uLAiNH"
      }
    },
    {
      "cell_type": "markdown",
      "source": [
        "Ans. 1. **Public**\n",
        "\n",
        "* Denoted by: No special prefix (i.e., normal variable or method name).\n",
        "* Accessible: Public members can be accessed from anywhere, including outside the class."
      ],
      "metadata": {
        "id": "bfI5eLFpCZxh"
      }
    },
    {
      "cell_type": "code",
      "source": [
        "class MyClass:\n",
        "    def __init__(self):\n",
        "        self.public_var = \"I'm public\"\n",
        "\n",
        "    def public_method(self):\n",
        "        return \"This is a public method\"\n",
        "\n",
        "obj = MyClass()\n",
        "print(obj.public_var)\n",
        "print(obj.public_method())\n"
      ],
      "metadata": {
        "colab": {
          "base_uri": "https://localhost:8080/"
        },
        "id": "LYKz6rEFAbJZ",
        "outputId": "9d678eeb-e006-46f7-8192-081d98f86208"
      },
      "execution_count": 8,
      "outputs": [
        {
          "output_type": "stream",
          "name": "stdout",
          "text": [
            "I'm public\n",
            "This is a public method\n"
          ]
        }
      ]
    },
    {
      "cell_type": "markdown",
      "source": [
        "2. **Protected**\n",
        "\n",
        "* Denoted by: A single underscore prefix (_).\n",
        "* Accessible: Protected members are intended to be accessed only within the class and its subclasses. However, they are still accessible outside the class (by convention, they should not be used outside)."
      ],
      "metadata": {
        "id": "1oBlpU3FC618"
      }
    },
    {
      "cell_type": "code",
      "source": [
        "class MyClass:\n",
        "    def __init__(self):\n",
        "        self._protected_var = \"I'm protected\"\n",
        "\n",
        "    def _protected_method(self):\n",
        "        return \"This is a protected method\"\n",
        "\n",
        "obj = MyClass()\n",
        "print(obj._protected_var)\n",
        "print(obj._protected_method())\n"
      ],
      "metadata": {
        "colab": {
          "base_uri": "https://localhost:8080/"
        },
        "id": "f2X7K04_DHSA",
        "outputId": "ece6575b-134b-4895-95e6-a155666d499f"
      },
      "execution_count": 9,
      "outputs": [
        {
          "output_type": "stream",
          "name": "stdout",
          "text": [
            "I'm protected\n",
            "This is a protected method\n"
          ]
        }
      ]
    },
    {
      "cell_type": "markdown",
      "source": [
        "3. **Private**\n",
        "\n",
        "* Denoted by: A double underscore prefix (__).\n",
        "* Accessible: Private members are intended to be hidden from outside access. Python performs name mangling to make these members harder to access from outside the class. They can still be accessed, but only with special syntax."
      ],
      "metadata": {
        "id": "rIhZ1d_pDJ3k"
      }
    },
    {
      "cell_type": "code",
      "source": [
        "class MyClass:\n",
        "    def __init__(self):\n",
        "        self.__private_var = \"I'm private\"\n",
        "\n",
        "    def __private_method(self):\n",
        "        return \"This is a private method\"\n",
        "\n",
        "obj = MyClass()\n",
        "# print(obj.__private_var)\n",
        "# print(obj.__private_method())\n",
        "\n",
        "# Accessing private members through name mangling\n",
        "print(obj._MyClass__private_var)\n",
        "print(obj._MyClass__private_method())\n"
      ],
      "metadata": {
        "colab": {
          "base_uri": "https://localhost:8080/"
        },
        "id": "HeNeekF6DUq4",
        "outputId": "ab58fbff-565c-4570-fdd1-670b5647f20a"
      },
      "execution_count": 7,
      "outputs": [
        {
          "output_type": "stream",
          "name": "stdout",
          "text": [
            "I'm private\n",
            "This is a private method\n"
          ]
        }
      ]
    },
    {
      "cell_type": "markdown",
      "source": [
        "* Public: No prefix (e.g., self.var) – accessible from anywhere.\n",
        "* Protected: Single underscore (_var) – accessible from the class and its subclasses (by convention).\n",
        "* Private: Double underscore (__var) – restricted access (name-mangled but can still be accessed via special syntax)."
      ],
      "metadata": {
        "id": "4aJLt2gbDtYP"
      }
    },
    {
      "cell_type": "markdown",
      "source": [
        "**Q6.Describe the five types of inheritance in Python. Provide a simple example of multiple inheritance.**\n",
        "\n"
      ],
      "metadata": {
        "id": "jyeVBbF3D6Bp"
      }
    },
    {
      "cell_type": "markdown",
      "source": [
        "Ans. **1.Single Inheritance**\n",
        "\n",
        "In single inheritance, a class (child) inherits from one parent class.\n",
        "\n",
        "Example:"
      ],
      "metadata": {
        "id": "l8o8HhGfEmww"
      }
    },
    {
      "cell_type": "code",
      "source": [
        "class Animal:\n",
        "    def sound(self):\n",
        "        return \"Animal makes a sound\"\n",
        "\n",
        "class Dog(Animal):\n",
        "    def bark(self):\n",
        "        return \"Dog barks\"\n",
        "\n",
        "dog = Dog()\n",
        "print(dog.sound())\n",
        "print(dog.bark())\n"
      ],
      "metadata": {
        "colab": {
          "base_uri": "https://localhost:8080/"
        },
        "id": "51xQQ3CHDipX",
        "outputId": "199bc5f2-d0c3-4d73-b26f-10e16d21f534"
      },
      "execution_count": 10,
      "outputs": [
        {
          "output_type": "stream",
          "name": "stdout",
          "text": [
            "Animal makes a sound\n",
            "Dog barks\n"
          ]
        }
      ]
    },
    {
      "cell_type": "markdown",
      "source": [
        "2.  **Multiple Inheritance**\n",
        "\n",
        "In multiple inheritance, a class inherits from more than one parent class.\n",
        "\n",
        "Example:"
      ],
      "metadata": {
        "id": "dM-O-_6XE-7y"
      }
    },
    {
      "cell_type": "code",
      "source": [
        "class Flyer:\n",
        "    def fly(self):\n",
        "        return \"Flying\"\n",
        "\n",
        "class Swimmer:\n",
        "    def swim(self):\n",
        "        return \"Swimming\"\n",
        "\n",
        "class Duck(Flyer, Swimmer):\n",
        "    def quack(self):\n",
        "        return \"Quacking\"\n",
        "\n",
        "duck = Duck()\n",
        "print(duck.fly())\n",
        "print(duck.swim())\n",
        "print(duck.quack())\n"
      ],
      "metadata": {
        "colab": {
          "base_uri": "https://localhost:8080/"
        },
        "id": "Hmj14X2WE4jw",
        "outputId": "9b64a879-294a-45f4-f46f-61009870709e"
      },
      "execution_count": 11,
      "outputs": [
        {
          "output_type": "stream",
          "name": "stdout",
          "text": [
            "Flying\n",
            "Swimming\n",
            "Quacking\n"
          ]
        }
      ]
    },
    {
      "cell_type": "markdown",
      "source": [
        "**3. Multilevel Inheritance**\n",
        "\n",
        "* A class is derived from a class that is already derived from another class.\n",
        "* Example."
      ],
      "metadata": {
        "id": "2P46OovmFY7C"
      }
    },
    {
      "cell_type": "code",
      "source": [
        "class Grandparent:\n",
        "    def display_grandparent(self):\n",
        "        print(\"Grandparent class\")\n",
        "\n",
        "class Parent(Grandparent):\n",
        "    def display_parent(self):\n",
        "        print(\"Parent class\")\n",
        "\n",
        "class Child(Parent):\n",
        "    pass\n",
        "\n",
        "c = Child()\n",
        "c.display_grandparent()\n",
        "c.display_parent()\n"
      ],
      "metadata": {
        "colab": {
          "base_uri": "https://localhost:8080/"
        },
        "id": "V35-1Oyf8Dsi",
        "outputId": "6b6b3130-079f-4c85-f9cd-26888ed1f5b4"
      },
      "execution_count": 1,
      "outputs": [
        {
          "output_type": "stream",
          "name": "stdout",
          "text": [
            "Grandparent class\n",
            "Parent class\n"
          ]
        }
      ]
    },
    {
      "cell_type": "markdown",
      "source": [
        "4. **Hierarchical Inheritance**\n",
        "\n",
        "* Multiple classes inherit from the same parent class.\n",
        "Example."
      ],
      "metadata": {
        "id": "UkNUR3zR8X7z"
      }
    },
    {
      "cell_type": "code",
      "source": [
        "class Parent:\n",
        "    def display(self):\n",
        "        print(\"Parent class\")\n",
        "\n",
        "class Child1(Parent):\n",
        "    pass\n",
        "\n",
        "class Child2(Parent):\n",
        "    pass\n",
        "\n",
        "c1 = Child1()\n",
        "c2 = Child2()\n",
        "\n",
        "c1.display()\n",
        "c2.display()\n"
      ],
      "metadata": {
        "colab": {
          "base_uri": "https://localhost:8080/"
        },
        "id": "6pcxNggR8H0w",
        "outputId": "b88e925d-26b4-4239-b5bc-f464e0feb84a"
      },
      "execution_count": 2,
      "outputs": [
        {
          "output_type": "stream",
          "name": "stdout",
          "text": [
            "Parent class\n",
            "Parent class\n"
          ]
        }
      ]
    },
    {
      "cell_type": "markdown",
      "source": [
        "5. **Hybrid Inheritance**\n",
        "\n",
        "* A combination of two or more types of inheritance.\n"
      ],
      "metadata": {
        "id": "PAQ3n6HJ88rk"
      }
    },
    {
      "cell_type": "code",
      "source": [
        "class Parent:\n",
        "    def display(self):\n",
        "        print(\"Parent class\")\n",
        "\n",
        "class Child1(Parent):\n",
        "    pass\n",
        "\n",
        "class Child2(Parent):\n",
        "    pass\n",
        "\n",
        "class Grandchild(Child1, Child2):\n",
        "    pass\n",
        "\n",
        "g = Grandchild()\n",
        "g.display()  # Output: Parent class (because of Method Resolution Order - MRO)\n"
      ],
      "metadata": {
        "id": "cbgIrqpu8vwB"
      },
      "execution_count": null,
      "outputs": []
    },
    {
      "cell_type": "markdown",
      "source": [
        "**Q7.What is the Method Resolution Order (MRO) in Python? How can you retrieve it programmatically?**"
      ],
      "metadata": {
        "id": "MdGyrc_q-ttP"
      }
    },
    {
      "cell_type": "markdown",
      "source": [
        "Ans. ***Method Resolution Order (MRO)***\n",
        "\n",
        "In Python, MRO defines the order in which methods are searched for when a class inherits from multiple base classes. It ensures that methods are called from the most specific class to the least specific. This helps avoid ambiguity and ensures that the correct method is called based on the class hierarchy.\n",
        "\n",
        "**Retrieving MRO Programmatically**\n",
        "\n",
        "You can use the __mro__ attribute of a class to access its MRO as a tuple. This tuple contains the classes in the order they are searched for when resolving method calls."
      ],
      "metadata": {
        "id": "eiESBgP5BDOi"
      }
    },
    {
      "cell_type": "code",
      "source": [
        "class A:\n",
        "    pass\n",
        "\n",
        "class B(A):\n",
        "    pass\n",
        "\n",
        "class C(A):\n",
        "    pass\n",
        "\n",
        "class D(B, C):\n",
        "    pass\n",
        "\n",
        "print(D.__mro__)"
      ],
      "metadata": {
        "colab": {
          "base_uri": "https://localhost:8080/"
        },
        "id": "i9wsUUa_GVeK",
        "outputId": "f6c43920-dacb-42c1-a37a-c171055f0111"
      },
      "execution_count": 3,
      "outputs": [
        {
          "output_type": "stream",
          "name": "stdout",
          "text": [
            "(<class '__main__.D'>, <class '__main__.B'>, <class '__main__.C'>, <class '__main__.A'>, <class 'object'>)\n"
          ]
        }
      ]
    },
    {
      "cell_type": "markdown",
      "source": [
        "As you can see, the MRO for class D includes D itself, followed by its direct base classes B and C, then the shared base class A, and finally the built-in object class.\n",
        "\n",
        "Important Notes:\n",
        "\n",
        "* MRO is calculated using the C3 linearization algorithm to ensure that it is consistent and avoids the diamond problem.\n",
        "* Understanding MRO is crucial when working with multiple inheritance in Python to avoid unexpected behavior.\n",
        "* You can use the super() function to access methods from base classes in the correct order based on the MRO."
      ],
      "metadata": {
        "id": "V4z6A14QHJKp"
      }
    },
    {
      "cell_type": "markdown",
      "source": [
        "**Q8.  Create an abstract base class `Shape` with an abstract method `area()`. Then create two subclasses\n",
        "`Circle` and `Rectangle` that implement the `area()` method.**\n",
        "\n",
        "Ans.\n",
        "\n",
        "\n"
      ],
      "metadata": {
        "id": "Fl-2bt9uHuJh"
      }
    },
    {
      "cell_type": "code",
      "source": [
        "from abc import ABC, abstractmethod\n",
        "\n",
        "class Shape(ABC):\n",
        "    @abstractmethod\n",
        "    def area(self):\n",
        "        pass\n",
        "\n",
        "class Circle(Shape):\n",
        "    def __init__(self, radius):\n",
        "        self.radius = radius\n",
        "\n",
        "    def area(self):\n",
        "        return 3.14159 * self.radius * self.radius\n",
        "\n",
        "class Rectangle(Shape):\n",
        "    def __init__(self, length, width):\n",
        "        self.length = length\n",
        "        self.width = width\n",
        "\n",
        "    def area(self):\n",
        "        return self.length * self.width\n",
        "\n",
        "# Example usage\n",
        "circle = Circle(5)\n",
        "rectangle = Rectangle(4, 3)\n",
        "\n",
        "print(\"Circle area:\", circle.area())\n",
        "print(\"Rectangle area:\", rectangle.area())"
      ],
      "metadata": {
        "colab": {
          "base_uri": "https://localhost:8080/"
        },
        "id": "1HDmLeMTJVW-",
        "outputId": "89f7d1fa-c4f3-495c-f751-be24dd923ce2"
      },
      "execution_count": 4,
      "outputs": [
        {
          "output_type": "stream",
          "name": "stdout",
          "text": [
            "Circle area: 78.53975\n",
            "Rectangle area: 12\n"
          ]
        }
      ]
    },
    {
      "cell_type": "markdown",
      "source": [
        "**Q9.Demonstrate polymorphism by creating a function that can work with different shape objects to calculate\n",
        "and print their areas.**"
      ],
      "metadata": {
        "id": "66XKGL7uJkn-"
      }
    },
    {
      "cell_type": "code",
      "source": [
        "def calculate_area(shape):\n",
        "    \"\"\"Calculates and prints the area of a shape object.\"\"\"\n",
        "    print(f\"Area of {shape.__class__.__name__}: {shape.area()}\")\n",
        "\n",
        "# Create instances of Circle and Rectangle\n",
        "circle = Circle(5)\n",
        "rectangle = Rectangle(4, 3)\n",
        "\n",
        "# Call the calculate_area function with different shape objects\n",
        "calculate_area(circle)\n",
        "calculate_area(rectangle)"
      ],
      "metadata": {
        "colab": {
          "base_uri": "https://localhost:8080/"
        },
        "id": "U-fANmmuJXLg",
        "outputId": "047e1919-f94f-44a6-f634-87aeaa885879"
      },
      "execution_count": 5,
      "outputs": [
        {
          "output_type": "stream",
          "name": "stdout",
          "text": [
            "Area of Circle: 78.53975\n",
            "Area of Rectangle: 12\n"
          ]
        }
      ]
    },
    {
      "cell_type": "markdown",
      "source": [
        "**Q10. Implement encapsulation in a `BankAccount` class with private attributes for `balance` and\n",
        "`account_number`. Include methods for deposit, withdrawal, and balance inquiry.**"
      ],
      "metadata": {
        "id": "7muI41HbKzdf"
      }
    },
    {
      "cell_type": "code",
      "source": [
        "class BankAccount:\n",
        "    def __init__(self, account_number, initial_balance=0):\n",
        "        self.__account_number = account_number\n",
        "        self.__balance = initial_balance\n",
        "\n",
        "    def deposit(self, amount):\n",
        "        if amount > 0:\n",
        "            self.__balance += amount\n",
        "            print(f\"Deposited {amount}. New balance: {self.__balance}\")\n",
        "        else:\n",
        "            print(\"Invalid deposit amount.\")\n",
        "\n",
        "    def withdraw(self, amount):\n",
        "        if amount > 0 and amount <= self.__balance:\n",
        "            self.__balance -= amount\n",
        "            print(f\"Withdrew {amount}. New balance: {self.__balance}\")\n",
        "        else:\n",
        "            print(\"Invalid withdrawal amount or insufficient funds.\")\n",
        "\n",
        "    def get_balance(self):\n",
        "        print(f\"Your current balance is: {self.__balance}\")\n",
        "\n",
        "\n",
        "account = BankAccount(\"1234567890\", 1000)\n",
        "\n",
        "\n",
        "account.deposit(500)\n",
        "account.withdraw(200)\n",
        "account.get_balance()"
      ],
      "metadata": {
        "colab": {
          "base_uri": "https://localhost:8080/"
        },
        "id": "VzhY8j8lKiY6",
        "outputId": "9ea03b24-149a-4c4a-f03d-46b4f9659e15"
      },
      "execution_count": 6,
      "outputs": [
        {
          "output_type": "stream",
          "name": "stdout",
          "text": [
            "Deposited 500. New balance: 1500\n",
            "Withdrew 200. New balance: 1300\n",
            "Your current balance is: 1300\n"
          ]
        }
      ]
    },
    {
      "cell_type": "markdown",
      "source": [
        "**Q11.Write a class that overrides the `__str__` and `__add__` magic methods. What will these methods allow\n",
        "you to do?**"
      ],
      "metadata": {
        "id": "Qq_xD1NbMAYZ"
      }
    },
    {
      "cell_type": "code",
      "source": [
        "class Person:\n",
        "    def __init__(self, name, age):\n",
        "        self.name = name\n",
        "        self.age = age\n",
        "\n",
        "    def __str__(self):\n",
        "        return f\"Name: {self.name}, Age: {self.age}\"\n",
        "\n",
        "    def __add__(self, other):\n",
        "        return Person(self.name + \" and \" + other.name, (self.age + other.age) / 2)\n",
        "\n",
        "\n",
        "person1 = Person(\"Alice\", 25)\n",
        "person2 = Person(\"Bob\", 30)\n",
        "\n",
        "\n",
        "print(person1)\n",
        "\n",
        "\n",
        "combined_person = person1 + person2\n",
        "print(combined_person)"
      ],
      "metadata": {
        "colab": {
          "base_uri": "https://localhost:8080/"
        },
        "id": "CwJu_mq1LXIJ",
        "outputId": "83c4a1b6-15d3-4806-8556-3edd85c44866"
      },
      "execution_count": 7,
      "outputs": [
        {
          "output_type": "stream",
          "name": "stdout",
          "text": [
            "Name: Alice, Age: 25\n",
            "Name: Alice and Bob, Age: 27.5\n"
          ]
        }
      ]
    },
    {
      "cell_type": "markdown",
      "source": [
        "**Q12.Create a decorator that measures and prints the execution time of a function.**"
      ],
      "metadata": {
        "id": "XZStMQklMdrV"
      }
    },
    {
      "cell_type": "code",
      "source": [
        "import time\n",
        "\n",
        "def measure_time(func):\n",
        "    def wrapper(*args, **kwargs):\n",
        "        start_time = time.time()\n",
        "        result = func(*args, **kwargs)\n",
        "        end_time = time.time()\n",
        "        elapsed_time = end_time - start_time\n",
        "        print(f\"{func.__name__} took {elapsed_time:.5f} seconds to execute.\")\n",
        "        return result\n",
        "    return wrapper\n",
        "\n",
        "@measure_time\n",
        "def my_function(x, y):\n",
        "    time.sleep(2)  # Simulate a long-running task\n",
        "    return x + y\n",
        "\n",
        "result = my_function(10, 20)\n",
        "print(result)"
      ],
      "metadata": {
        "colab": {
          "base_uri": "https://localhost:8080/"
        },
        "id": "mlpE_1L7M3lF",
        "outputId": "c0e4de0e-3d5f-4b63-fc40-faabef8ec79d"
      },
      "execution_count": 8,
      "outputs": [
        {
          "output_type": "stream",
          "name": "stdout",
          "text": [
            "my_function took 2.00211 seconds to execute.\n",
            "30\n"
          ]
        }
      ]
    },
    {
      "cell_type": "markdown",
      "source": [
        "**Q13. Explain the concept of the Diamond Problem in multiple inheritance. How does Python resolve it?**"
      ],
      "metadata": {
        "id": "_gdwxEyVNwLN"
      }
    },
    {
      "cell_type": "markdown",
      "source": [
        "Ans. The Diamond Problem is a common issue in multiple inheritance where ambiguity arises in method resolution. It occurs when a class inherits from two classes that both inherit from the same base class, creating a diamond-shaped inheritance structure. The problem lies in determining which method from the shared base class should be executed when called from the bottom-most class."
      ],
      "metadata": {
        "id": "z6eWEJxbOFRX"
      }
    },
    {
      "cell_type": "code",
      "source": [
        "class A:\n",
        "    def method(self):\n",
        "        print(\"Method in A\")\n",
        "\n",
        "class B(A):\n",
        "    def method(self):\n",
        "        print(\"Method in B\")\n",
        "\n",
        "class C(A):\n",
        "    def method(self):\n",
        "        print(\"Method in C\")\n",
        "\n",
        "class D(B, C):\n",
        "    pass\n",
        "\n",
        "d = D()\n",
        "d.method()\n"
      ],
      "metadata": {
        "colab": {
          "base_uri": "https://localhost:8080/"
        },
        "id": "POrvcMFAN0uo",
        "outputId": "b745ff4d-1429-4b5c-db9d-3594854db3d9"
      },
      "execution_count": 11,
      "outputs": [
        {
          "output_type": "stream",
          "name": "stdout",
          "text": [
            "Method in B\n"
          ]
        }
      ]
    },
    {
      "cell_type": "markdown",
      "source": [
        "**How Python Resolves the Diamond Problem:**\n",
        "\n",
        "Python addresses this issue using the C3 Linearization Algorithm (also called MRO, Method Resolution Order). This algorithm ensures a clear, linear order for resolving methods in cases of multiple inheritance, avoiding ambiguity.\n",
        "\n",
        "In the diamond structure, Python looks at the method resolution order from left to right, based on how the classes are defined in the inheritance chain. The MRO ensures that the method is searched in a consistent order, starting from the most specific class (the child) and moving up through the parent classes."
      ],
      "metadata": {
        "id": "Y-YqGZxDTjKf"
      }
    },
    {
      "cell_type": "markdown",
      "source": [
        "**Q14.Write a class method that keeps track of the number of instances created from a class.**"
      ],
      "metadata": {
        "id": "E5F_Ya-xT1kC"
      }
    },
    {
      "cell_type": "markdown",
      "source": [
        "To keep track of the number of instances created from a class, you can use a class variable that is shared among all instances. A class method can be used to access and manipulate this variable. Here’s how you can implement it."
      ],
      "metadata": {
        "id": "TX7vISDgU7eX"
      }
    },
    {
      "cell_type": "code",
      "source": [
        "class MyClass:\n",
        "\n",
        "    instance_count = 0\n",
        "\n",
        "    def __init__(self):\n",
        "\n",
        "        MyClass.instance_count += 1\n",
        "\n",
        "\n",
        "    @classmethod\n",
        "    def get_instance_count(cls):\n",
        "        return cls.instance_count\n",
        "\n",
        "\n",
        "obj1 = MyClass()\n",
        "obj2 = MyClass()\n",
        "obj3 = MyClass()\n",
        "\n",
        "\n",
        "print(MyClass.get_instance_count())\n"
      ],
      "metadata": {
        "colab": {
          "base_uri": "https://localhost:8080/"
        },
        "id": "cqFTzXvzUcr1",
        "outputId": "fe2070e6-c5e9-42d7-f2ea-b3615af2658a"
      },
      "execution_count": 12,
      "outputs": [
        {
          "output_type": "stream",
          "name": "stdout",
          "text": [
            "3\n"
          ]
        }
      ]
    },
    {
      "cell_type": "markdown",
      "source": [
        "**Q15. Implement a static method in a class that checks if a given year is a leap year.**"
      ],
      "metadata": {
        "id": "dPbGMhL2UzO5"
      }
    },
    {
      "cell_type": "markdown",
      "source": [
        "Ans."
      ],
      "metadata": {
        "id": "Zq1o7zldMl_2"
      }
    },
    {
      "cell_type": "code",
      "source": [
        "class YearChecker:\n",
        "\n",
        "    @staticmethod\n",
        "    def is_leap_year(year):\n",
        "        if (year % 4 == 0 and year % 100 != 0) or (year % 400 == 0):\n",
        "            return True\n",
        "        return False\n",
        "\n",
        "# Example usage\n",
        "print(YearChecker.is_leap_year(2020))\n",
        "print(YearChecker.is_leap_year(2023))\n",
        "print(YearChecker.is_leap_year(1900))\n",
        "print(YearChecker.is_leap_year(2000))\n"
      ],
      "metadata": {
        "colab": {
          "base_uri": "https://localhost:8080/"
        },
        "id": "TdusxhlzVhbe",
        "outputId": "9c609955-fe62-4c75-a6ce-76362d6baf55"
      },
      "execution_count": 14,
      "outputs": [
        {
          "output_type": "stream",
          "name": "stdout",
          "text": [
            "True\n",
            "False\n",
            "False\n",
            "True\n"
          ]
        }
      ]
    },
    {
      "cell_type": "code",
      "source": [],
      "metadata": {
        "id": "A_p-60L3Vtng"
      },
      "execution_count": null,
      "outputs": []
    }
  ]
}